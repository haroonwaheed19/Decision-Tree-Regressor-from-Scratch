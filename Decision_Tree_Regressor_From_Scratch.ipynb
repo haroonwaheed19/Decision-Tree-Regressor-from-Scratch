{
  "nbformat": 4,
  "nbformat_minor": 0,
  "metadata": {
    "colab": {
      "provenance": [],
      "authorship_tag": "ABX9TyPvPhnLFHNyApnu/1GmlBgB",
      "include_colab_link": true
    },
    "kernelspec": {
      "name": "python3",
      "display_name": "Python 3"
    },
    "language_info": {
      "name": "python"
    }
  },
  "cells": [
    {
      "cell_type": "markdown",
      "metadata": {
        "id": "view-in-github",
        "colab_type": "text"
      },
      "source": [
        "<a href=\"https://colab.research.google.com/github/haroonwaheed19/Decision-Tree-Regressor-from-Scratch/blob/main/Decision_Tree_Regressor_From_Scratch.ipynb\" target=\"_parent\"><img src=\"https://colab.research.google.com/assets/colab-badge.svg\" alt=\"Open In Colab\"/></a>"
      ]
    },
    {
      "cell_type": "code",
      "execution_count": null,
      "metadata": {
        "id": "KyKJ_eqrid2C"
      },
      "outputs": [],
      "source": [
        "import numpy as np\n",
        "import pandas as pd"
      ]
    },
    {
      "cell_type": "code",
      "source": [
        "class Node:\n",
        "  def __init__(self,feature_index=None,threshold=None,left=None,right=None,info_gain=None,value=None):\n",
        "    #for decision node\n",
        "    self.feature_index = feature_index\n",
        "    self.threshold = threshold\n",
        "    self.left = left\n",
        "    self.right = right\n",
        "    self.info_gain = info_gain\n",
        "\n",
        "    #for leaf node\n",
        "    self.value = value"
      ],
      "metadata": {
        "id": "rvG468FvimC-"
      },
      "execution_count": null,
      "outputs": []
    },
    {
      "cell_type": "code",
      "source": [
        "class DecisionTreeRegressor:\n",
        "    def __init__(self, min_samples_split=2, max_depth=2):\n",
        "        self.root = None\n",
        "        self.min_samples_split = min_samples_split\n",
        "        self.max_depth = max_depth\n",
        "\n",
        "    def fit(self, X, Y):\n",
        "        dataset = np.concatenate((X, Y), axis=1)\n",
        "        self.root = self.build_tree(dataset)\n",
        "\n",
        "    def build_tree(self, dataset, curr_depth=0):\n",
        "        X, Y = dataset[:, :-1], dataset[:, -1]\n",
        "        num_samples, num_features = np.shape(X)\n",
        "\n",
        "        if num_samples >= self.min_samples_split and curr_depth <= self.max_depth:\n",
        "            best_split = self.get_best_split(dataset, num_samples, num_features)\n",
        "            if best_split[\"info_gain\"] > 0:\n",
        "                left_subtree = self.build_tree(best_split[\"dataset_left\"], curr_depth + 1)\n",
        "                right_subtree = self.build_tree(best_split[\"dataset_right\"], curr_depth + 1)\n",
        "                return Node(best_split[\"feature_index\"], best_split[\"threshold\"],\n",
        "                            left_subtree, right_subtree, best_split[\"info_gain\"])\n",
        "\n",
        "        leaf_value = self.calculate_leaf_value(Y)\n",
        "        return Node(value=leaf_value)\n",
        "\n",
        "    def calculate_leaf_value(self, Y):\n",
        "        return np.mean(Y)\n",
        "\n",
        "    def get_best_split(self, dataset, num_samples, num_features):\n",
        "        best_split = {}\n",
        "        max_info_gain = -float(\"inf\")\n",
        "\n",
        "        for feature_index in range(num_features):\n",
        "            feature_values = dataset[:, feature_index]\n",
        "            possible_thresholds = np.unique(feature_values)\n",
        "\n",
        "            for threshold in possible_thresholds:\n",
        "                dataset_left, dataset_right = self.split(dataset, feature_index, threshold)\n",
        "\n",
        "                if len(dataset_left) > 0 and len(dataset_right) > 0:\n",
        "                    y, left_y, right_y = dataset[:, -1], dataset_left[:, -1], dataset_right[:, -1]\n",
        "                    current_info_gain = self.information_gain(y, left_y, right_y)\n",
        "\n",
        "                    if current_info_gain > max_info_gain:\n",
        "                        best_split = {\n",
        "                            \"feature_index\": feature_index,\n",
        "                            \"threshold\": threshold,\n",
        "                            \"dataset_left\": dataset_left,\n",
        "                            \"dataset_right\": dataset_right,\n",
        "                            \"info_gain\": current_info_gain\n",
        "                        }\n",
        "                        max_info_gain = current_info_gain\n",
        "        return best_split\n",
        "\n",
        "    def split(self, dataset, feature_index, threshold):\n",
        "        dataset_left = np.array([row for row in dataset if row[feature_index] <= threshold])\n",
        "        dataset_right = np.array([row for row in dataset if row[feature_index] > threshold])\n",
        "        return dataset_left, dataset_right\n",
        "\n",
        "    def information_gain(self, parent, l_child, r_child):\n",
        "        weight_l = len(l_child) / len(parent)\n",
        "        weight_r = len(r_child) / len(parent)\n",
        "\n",
        "        gain = self.variance(parent) - (weight_l * self.variance(l_child) + weight_r * self.variance(r_child))\n",
        "        return gain\n",
        "\n",
        "    def variance(self, y):\n",
        "        return np.var(y)\n",
        "\n",
        "    def predict(self, X):\n",
        "        return [self.make_prediction(x, self.root) for x in X]\n",
        "\n",
        "    def make_prediction(self, x, tree):\n",
        "        if tree.value is not None:\n",
        "            return tree.value\n",
        "\n",
        "        feature_val = x[tree.feature_index]\n",
        "        if feature_val <= tree.threshold:\n",
        "            return self.make_prediction(x, tree.left)\n",
        "        else:\n",
        "            return self.make_prediction(x, tree.right)\n",
        "\n",
        "    def print_tree(self, tree=None, indent=\" \"):\n",
        "        if tree is None:\n",
        "            tree = self.root\n",
        "\n",
        "        if tree.value is not None:\n",
        "            print(round(tree.value, 3))  # Round regression values\n",
        "        else:\n",
        "            print(\"X_\" + str(tree.feature_index), \"<=\", tree.threshold, \":\", round(tree.info_gain, 3))\n",
        "            print(f\"{indent}left:\", end=\"\")\n",
        "            self.print_tree(tree.left, indent + indent)\n",
        "            print(f\"{indent}right:\", end=\"\")\n",
        "            self.print_tree(tree.right, indent + indent)"
      ],
      "metadata": {
        "id": "VD-WYd2Win1T"
      },
      "execution_count": null,
      "outputs": []
    },
    {
      "cell_type": "code",
      "source": [],
      "metadata": {
        "id": "7tzacicLiwbC"
      },
      "execution_count": null,
      "outputs": []
    }
  ]
}